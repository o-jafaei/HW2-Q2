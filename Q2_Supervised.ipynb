{
  "nbformat": 4,
  "nbformat_minor": 0,
  "metadata": {
    "colab": {
      "provenance": [],
      "gpuType": "T4"
    },
    "kernelspec": {
      "name": "python3",
      "display_name": "Python 3"
    },
    "language_info": {
      "name": "python"
    },
    "accelerator": "GPU"
  },
  "cells": [
    {
      "cell_type": "code",
      "execution_count": null,
      "metadata": {
        "id": "zIO_ZLSoRJwk"
      },
      "outputs": [],
      "source": [
        "import matplotlib.pyplot as plt\n",
        "import torch\n",
        "import torch.nn as nn\n",
        "from torch.optim import Adam\n",
        "from torchvision.datasets import MNIST\n",
        "from torchvision.transforms import Compose, ToTensor, Normalize, Lambda\n",
        "from torch.utils.data import DataLoader\n",
        "from torchvision import datasets"
      ]
    },
    {
      "cell_type": "code",
      "source": [
        "device = \"cuda\" #if torch.cuda.is_available() else \"cpu\"\n",
        "dtype = torch.float32"
      ],
      "metadata": {
        "id": "fMubGNYORQhr"
      },
      "execution_count": null,
      "outputs": []
    },
    {
      "cell_type": "markdown",
      "source": [
        "**Supervised**"
      ],
      "metadata": {
        "id": "bCzd6KgrTAt3"
      }
    },
    {
      "cell_type": "markdown",
      "source": [
        "قسمت آ"
      ],
      "metadata": {
        "id": "GhaDEM9QTI1W"
      }
    },
    {
      "cell_type": "code",
      "source": [
        "torch.manual_seed(99)"
      ],
      "metadata": {
        "colab": {
          "base_uri": "https://localhost:8080/"
        },
        "id": "_IdOJ36--ZIF",
        "outputId": "54dad493-bfec-4ac4-f702-c695ab152cef"
      },
      "execution_count": null,
      "outputs": [
        {
          "output_type": "execute_result",
          "data": {
            "text/plain": [
              "<torch._C.Generator at 0x7919796b9330>"
            ]
          },
          "metadata": {},
          "execution_count": 44
        }
      ]
    },
    {
      "cell_type": "code",
      "source": [
        "transform = Compose([ToTensor(),\n",
        "                     Lambda(lambda x: torch.flatten(x))])"
      ],
      "metadata": {
        "id": "PtHTxhziSQS9"
      },
      "execution_count": null,
      "outputs": []
    },
    {
      "cell_type": "code",
      "source": [
        "training_data = datasets.MNIST(\n",
        "    root=\"data\",\n",
        "    train=True,\n",
        "    download=True,\n",
        "    transform=transform\n",
        ")\n",
        "\n",
        "test_data = datasets.MNIST(\n",
        "    root=\"data\",\n",
        "    train=False,\n",
        "    download=True,\n",
        "    transform=transform\n",
        ")"
      ],
      "metadata": {
        "id": "RYYPJLQESLam"
      },
      "execution_count": null,
      "outputs": []
    },
    {
      "cell_type": "code",
      "source": [
        "train_dataloader = DataLoader(training_data, batch_size=64)\n",
        "test_dataloader = DataLoader(test_data, batch_size=10000)\n",
        "train_acc_dataloader = DataLoader(training_data, batch_size=50000) # This is for checking accuracy on training set."
      ],
      "metadata": {
        "id": "s5iu_uA4SI0g"
      },
      "execution_count": null,
      "outputs": []
    },
    {
      "cell_type": "markdown",
      "source": [
        "قسمت ب"
      ],
      "metadata": {
        "id": "KXD_fctUTL4G"
      }
    },
    {
      "cell_type": "code",
      "source": [
        "def overlay_y_on_x(x, y):\n",
        "    z = x.clone() / x.max()\n",
        "    z[:, :10] *= 0.0\n",
        "    z[range(x.shape[0]), y] = torch.tensor([1], dtype = torch.float)\n",
        "    return z"
      ],
      "metadata": {
        "id": "lJUDNs1XTSMl"
      },
      "execution_count": null,
      "outputs": []
    },
    {
      "cell_type": "markdown",
      "source": [
        "قسمت ج"
      ],
      "metadata": {
        "id": "E2JimTAUUsqt"
      }
    },
    {
      "cell_type": "markdown",
      "source": [
        "![loss.png](data:image/png;base64,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)"
      ],
      "metadata": {
        "id": "yjVcSsVOc8D8"
      }
    },
    {
      "cell_type": "code",
      "source": [
        "class LearningNet(nn.Module):\n",
        "\n",
        "    def __init__(self, dims):\n",
        "        super().__init__()\n",
        "        self.layers = []\n",
        "        self.l1 = LinearLayer(dims[0], dims[1], device = device)\n",
        "\n",
        "    def predict(self, x, y):\n",
        "        goodness_per_label = []\n",
        "        for label in range(10):\n",
        "            data = overlay_y_on_x(x, label)\n",
        "            goodness = []\n",
        "            out1 = self.l1(data)\n",
        "            goodness.extend([torch.mean(out1**2, dim=1)])\n",
        "            goodness_per_label.extend([sum(goodness).unsqueeze(1)])\n",
        "            predictions = torch.cat(goodness_per_label, 1).argmax(1)\n",
        "        return (predictions == y).float().mean().item()\n",
        "\n",
        "    def perform(self, x_pos, x_neg):\n",
        "        data_pos1, data_neg1 = self.l1.train(x_pos, x_neg)\n",
        "\n"
      ],
      "metadata": {
        "id": "8XaaerPCHyQp"
      },
      "execution_count": null,
      "outputs": []
    },
    {
      "cell_type": "code",
      "source": [
        "class LinearLayer(nn.Linear):\n",
        "    def __init__(self, in_features, out_features,\n",
        "                 bias=True, device=device, dtype=dtype):\n",
        "        super().__init__(in_features, out_features, bias, device, dtype)\n",
        "        self.relu = torch.nn.ReLU()\n",
        "        self.opt = Adam(self.parameters(), lr=0.029)\n",
        "        self.threshold = 2\n",
        "\n",
        "\n",
        "    def forward(self, x):\n",
        "        x_direction = x / (x.norm(2, 1, keepdim=True) + 1e-5)\n",
        "        return self.relu(x_direction @ self.weight.T + self.bias)\n",
        "\n",
        "    def train(self, x_pos, x_neg):\n",
        "        g_pos = torch.mean(self.forward(x_pos)**2, dim = 1) # Calculating goodness\n",
        "        g_neg = torch.mean(self.forward(x_neg)**2, dim = 1) # Calculating goodness\n",
        "        loss = torch.mean(torch.log(1 + torch.exp(torch.cat([-g_pos + self.threshold, g_neg - self.threshold]))))\n",
        "        self.opt.zero_grad()\n",
        "        loss.backward()\n",
        "        self.opt.step()\n",
        "        return self.forward(x_pos).detach(), self.forward(x_neg).detach()"
      ],
      "metadata": {
        "id": "fCkv-InbH3t8"
      },
      "execution_count": null,
      "outputs": []
    },
    {
      "cell_type": "markdown",
      "source": [
        "قسمت د"
      ],
      "metadata": {
        "id": "KAVGhESxbkvN"
      }
    },
    {
      "cell_type": "code",
      "source": [
        "epochs = 20\n",
        "lrnet = LearningNet([784, 600])\n",
        "for e in range(epochs):\n",
        "    for t, (x, y) in enumerate(train_dataloader):\n",
        "        x, y = x.to(device), y.to(device)\n",
        "        x_pos = overlay_y_on_x(x, y)\n",
        "        rnd = torch.randperm(x.shape[0])\n",
        "        x_neg = overlay_y_on_x(x, y[rnd])\n",
        "        lrnet.perform(x_pos, x_neg)\n",
        "\n",
        "x_train_acc, y_train_acc = next(iter(train_acc_dataloader))\n",
        "\n",
        "train_accuracy = lrnet.predict(x_train_acc.to(device), y_train_acc.to(device))\n",
        "print('Train Accuracy:', train_accuracy)\n",
        "print('Train Error: ', 1-train_accuracy)\n",
        "\n",
        "x_test, y_test = next(iter(test_dataloader))\n",
        "x_test, y_test = x_test.to(device), y_test.to(device)\n",
        "test_accuracy = lrnet.predict(x_test, y_test)\n",
        "print('---------------------------')\n",
        "print('Test Accuracy:', test_accuracy)\n",
        "print(f'Test Error: ', 1-test_accuracy)"
      ],
      "metadata": {
        "colab": {
          "base_uri": "https://localhost:8080/"
        },
        "id": "Gf_YrpMUH-Rh",
        "outputId": "ef8d38a9-738d-4c87-888b-1cc639d7c69d"
      },
      "execution_count": null,
      "outputs": [
        {
          "output_type": "stream",
          "name": "stdout",
          "text": [
            "Train Accuracy: 0.973360002040863\n",
            "Train Error:  0.026639997959136963\n",
            "---------------------------\n",
            "Test Accuracy: 0.9672999978065491\n",
            "Test Error:  0.03270000219345093\n"
          ]
        }
      ]
    },
    {
      "cell_type": "markdown",
      "source": [
        "![explanations.png](data:image/png;base64,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)"
      ],
      "metadata": {
        "id": "ysTkUpvzejoM"
      }
    },
    {
      "cell_type": "markdown",
      "source": [
        "در این تمرین از ویدیوی زیر الهام گرفته شده است."
      ],
      "metadata": {
        "id": "uCna15DOTg6r"
      }
    },
    {
      "cell_type": "markdown",
      "source": [
        "https://www.youtube.com/watch?v=kvdOow3__CI"
      ],
      "metadata": {
        "id": "qBBZlebhTnFC"
      }
    }
  ]
}