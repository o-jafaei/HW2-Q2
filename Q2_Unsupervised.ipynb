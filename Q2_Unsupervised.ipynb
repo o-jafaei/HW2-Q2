{
  "cells": [
    {
      "cell_type": "markdown",
      "id": "ca62156d",
      "metadata": {
        "id": "ca62156d"
      },
      "source": [
        "# Libraries"
      ]
    },
    {
      "cell_type": "code",
      "execution_count": 11,
      "id": "16d42fc0",
      "metadata": {
        "id": "16d42fc0"
      },
      "outputs": [],
      "source": [
        "import torch\n",
        "import torch.nn as nn\n",
        "from torchvision.datasets import MNIST\n",
        "from torchvision.transforms import Compose, ToTensor\n",
        "from torch.optim import Adam\n",
        "from torch.utils.data import DataLoader, Dataset\n",
        "import numpy as np\n",
        "import random\n",
        "from sklearn.preprocessing import OneHotEncoder\n",
        "from torchvision import datasets\n",
        "import cv2"
      ]
    },
    {
      "cell_type": "code",
      "source": [
        "device = \"cuda\" if torch.cuda.is_available() else \"cpu\"\n",
        "dtype = torch.float32"
      ],
      "metadata": {
        "id": "jLa2rjrU2vBR"
      },
      "id": "jLa2rjrU2vBR",
      "execution_count": 12,
      "outputs": []
    },
    {
      "cell_type": "code",
      "source": [
        "torch.manual_seed(99)"
      ],
      "metadata": {
        "colab": {
          "base_uri": "https://localhost:8080/"
        },
        "id": "2l50eLZVM8GM",
        "outputId": "825c9cdb-c3fd-489e-867f-3943ab135821"
      },
      "id": "2l50eLZVM8GM",
      "execution_count": 13,
      "outputs": [
        {
          "output_type": "execute_result",
          "data": {
            "text/plain": [
              "<torch._C.Generator at 0x79ec242ad4b0>"
            ]
          },
          "metadata": {},
          "execution_count": 13
        }
      ]
    },
    {
      "cell_type": "markdown",
      "source": [
        "##قسمت آ"
      ],
      "metadata": {
        "id": "aJB2PmGeYuIq"
      },
      "id": "aJB2PmGeYuIq"
    },
    {
      "cell_type": "code",
      "source": [
        "def generate_mask(N):\n",
        "    masks=[]\n",
        "    batch_size = N\n",
        "    for j in range(batch_size):\n",
        "        mask = np.random.choice([0, 1], size=(1,28,28), p=[0.5, 0.5])\n",
        "        for _ in range(20):\n",
        "            mask = cv2.filter2D(mask.astype(float), ddepth = -1, kernel = np.array([[1/4, 1/2, 1/4]]))\n",
        "        mask = (mask > 0.5).astype(float)\n",
        "        masks.append(mask)\n",
        "    return torch.tensor(np.array(masks), device = device, dtype = dtype)"
      ],
      "metadata": {
        "id": "d-U-_CNZ2-gh"
      },
      "id": "d-U-_CNZ2-gh",
      "execution_count": 14,
      "outputs": []
    },
    {
      "cell_type": "markdown",
      "source": [
        "##قسمت ب"
      ],
      "metadata": {
        "id": "vsw4RobSYzD3"
      },
      "id": "vsw4RobSYzD3"
    },
    {
      "cell_type": "code",
      "execution_count": 15,
      "id": "f560bc1a",
      "metadata": {
        "id": "f560bc1a"
      },
      "outputs": [],
      "source": [
        "training_data = datasets.MNIST(\n",
        "    root=\"data\",\n",
        "    train=True,\n",
        "    download=True,\n",
        "    transform=ToTensor()\n",
        ")\n",
        "\n",
        "test_data = datasets.MNIST(\n",
        "    root=\"data\",\n",
        "    train=False,\n",
        "    download=True,\n",
        "    transform=ToTensor()\n",
        ")\n",
        "\n",
        "train_dataloader = DataLoader(training_data, batch_size=64)\n",
        "test_dataloader = DataLoader(test_data, batch_size=10000)\n",
        "train_acc_dataloader = DataLoader(training_data, batch_size=50000)"
      ]
    },
    {
      "cell_type": "markdown",
      "source": [
        "##قسمت ج"
      ],
      "metadata": {
        "id": "DFl85DGzY2C1"
      },
      "id": "DFl85DGzY2C1"
    },
    {
      "cell_type": "markdown",
      "source": [
        "شبکه ی FF"
      ],
      "metadata": {
        "id": "JPBzNjfVZIGd"
      },
      "id": "JPBzNjfVZIGd"
    },
    {
      "cell_type": "code",
      "source": [
        "class Layer(nn.Linear):\n",
        "    def __init__(self, in_features, out_features, bias=True, device=device, dtype=dtype):\n",
        "        super().__init__(in_features, out_features, bias, device, dtype)\n",
        "        self.relu = nn.ReLU()\n",
        "        self.opt = Adam(self.parameters(), lr=0.029)\n",
        "        self.threshold = 2\n",
        "\n",
        "\n",
        "    def forward(self, x):\n",
        "        x_direction = x / (x.norm(2, 1, keepdim=True) + 1e-4)\n",
        "        return self.relu(x_direction @ self.weight.T + self.bias.unsqueeze(0))\n",
        "\n",
        "    def train(self, x_pos,x_neg):\n",
        "        g_pos = torch.mean(self.forward(x_pos)**2, dim = 1) # Calculating goodness\n",
        "        g_neg = torch.mean(self.forward(x_neg)**2, dim = 1) # Calculating goodness\n",
        "        loss = torch.mean(torch.log(1 + torch.exp(torch.cat([-g_pos + self.threshold, g_neg - self.threshold]))))\n",
        "        self.opt.zero_grad()\n",
        "        loss.backward()\n",
        "        self.opt.step()\n",
        "        return self.forward(x_pos).detach(), self.forward(x_neg).detach()"
      ],
      "metadata": {
        "id": "oWcApGqFvCB-"
      },
      "id": "oWcApGqFvCB-",
      "execution_count": 16,
      "outputs": []
    },
    {
      "cell_type": "markdown",
      "source": [
        "شبکه یادگیری"
      ],
      "metadata": {
        "id": "ir2rUxBkZMwd"
      },
      "id": "ir2rUxBkZMwd"
    },
    {
      "cell_type": "code",
      "source": [
        "class LearningNet(nn.Module):\n",
        "    def __init__(self):\n",
        "        super().__init__()\n",
        "        dims = [784,600, 580]\n",
        "        self.layers = []\n",
        "        self.l1 = Layer(dims[0], dims[1]).to(device)\n",
        "\n",
        "\n",
        "    def predict(self,x):\n",
        "        layers_output = torch.Tensor([]).to(device)\n",
        "        data = x.clone()\n",
        "        out1 = self.l1(data)\n",
        "        layers_output = torch.cat([layers_output,out1],1)\n",
        "        return layers_output\n",
        "\n",
        "\n",
        "    def perform(self, x_pos, x_neg):\n",
        "        data_pos1, data_neg1 = self.l1.train(x_pos, x_neg)"
      ],
      "metadata": {
        "id": "ZtSVzr56vJQe"
      },
      "id": "ZtSVzr56vJQe",
      "execution_count": 17,
      "outputs": []
    },
    {
      "cell_type": "markdown",
      "source": [
        "FFآموزش شبکه\n",
        " به کمک شبکه یادگیری"
      ],
      "metadata": {
        "id": "MbSCbyZeaD8N"
      },
      "id": "MbSCbyZeaD8N"
    },
    {
      "cell_type": "code",
      "source": [
        "model = LearningNet()\n",
        "epochs = 20\n",
        "for e in range(epochs):\n",
        "    for t, (x, y) in enumerate(train_dataloader):\n",
        "        x, y = x.to(device), y.to(device)\n",
        "        x = x/x.max()\n",
        "        x_pos = torch.flatten(x.clone(), start_dim=1)\n",
        "        rnd1 = torch.randperm(x.shape[0])\n",
        "        rnd2 = torch.randperm(x.shape[0])\n",
        "        masks = generate_mask(x.shape[0])\n",
        "        neg = masks * x[rnd1] + (1-masks) * x[rnd2]\n",
        "        x_neg = torch.flatten(neg, start_dim=1)\n",
        "        model.perform(x_pos.to(device), x_neg.to(device))"
      ],
      "metadata": {
        "id": "TvEKidlQvOxd"
      },
      "id": "TvEKidlQvOxd",
      "execution_count": 18,
      "outputs": []
    },
    {
      "cell_type": "markdown",
      "source": [
        "![uns_explanation.png](data:image/png;base64,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)"
      ],
      "metadata": {
        "id": "7mRB5Jikvwxg"
      },
      "id": "7mRB5Jikvwxg"
    },
    {
      "cell_type": "markdown",
      "source": [
        "##قسمت د"
      ],
      "metadata": {
        "id": "WlXJfMU5aoL2"
      },
      "id": "WlXJfMU5aoL2"
    },
    {
      "cell_type": "code",
      "source": [
        "class LinearClassification(nn.Module):\n",
        "    def __init__(self):\n",
        "        super().__init__()\n",
        "        self.linear = torch.nn.Linear(600, 10).to(device)\n",
        "        self.optimizer = Adam(self.parameters(), lr=0.03)\n",
        "        self.criterion = nn.CrossEntropyLoss()\n",
        "        self.softmax = nn.Softmax()\n",
        "\n",
        "    def forward(self,x):\n",
        "        return self.linear(x)\n",
        "\n",
        "    def label_to_oh(self, y):\n",
        "        y = y.cpu().numpy().reshape(-1,1)\n",
        "        ohe = OneHotEncoder().fit(np.arange(10).reshape((10,1)))\n",
        "        ohe_y = ohe.transform(y).toarray()\n",
        "        return torch.Tensor(ohe_y)\n",
        "\n",
        "\n",
        "    def train(self, x, y):\n",
        "        x = x.to(device)\n",
        "        y_r = self.label_to_oh(y).to(device)\n",
        "        h_activity = model.predict(x)\n",
        "        y_h = self.forward(h_activity)\n",
        "        loss = self.criterion(y_h,y_r)\n",
        "        self.optimizer.zero_grad()\n",
        "        loss.backward()\n",
        "        self.optimizer.step()\n",
        "\n",
        "\n",
        "    def predict(self, x, y):\n",
        "        correct_predictions = 0\n",
        "        total_samples = 0\n",
        "        x = x.to(device)\n",
        "        y_r = self.label_to_oh(y).to(device)\n",
        "        h_activity = model.predict(x)\n",
        "        y_h = self.softmax(self.forward(h_activity))\n",
        "        predicted_labels = torch.argmax(y_h, dim=1)\n",
        "        true_labels = torch.argmax(y_r, dim=1)\n",
        "        correct_predictions += (predicted_labels == true_labels).sum().item()\n",
        "        total_samples += len(y)\n",
        "        accuracy = correct_predictions / total_samples\n",
        "        return accuracy"
      ],
      "metadata": {
        "id": "qv6kqiucvQlf"
      },
      "id": "qv6kqiucvQlf",
      "execution_count": 19,
      "outputs": []
    },
    {
      "cell_type": "markdown",
      "source": [
        "آموزش طبقه بند خطی"
      ],
      "metadata": {
        "id": "FlHmJCVPat6e"
      },
      "id": "FlHmJCVPat6e"
    },
    {
      "cell_type": "markdown",
      "source": [
        "![uuuuuuuuuu.png](data:image/png;base64,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)"
      ],
      "metadata": {
        "id": "YzLV6HiswnJl"
      },
      "id": "YzLV6HiswnJl"
    },
    {
      "cell_type": "code",
      "execution_count": 20,
      "id": "b0458702",
      "metadata": {
        "id": "b0458702",
        "colab": {
          "base_uri": "https://localhost:8080/"
        },
        "outputId": "eb081f36-b57b-4f07-b0bf-1ad489098614"
      },
      "outputs": [
        {
          "output_type": "stream",
          "name": "stderr",
          "text": [
            "/usr/local/lib/python3.10/dist-packages/torch/nn/modules/module.py:1518: UserWarning: Implicit dimension choice for softmax has been deprecated. Change the call to include dim=X as an argument.\n",
            "  return self._call_impl(*args, **kwargs)\n"
          ]
        },
        {
          "output_type": "stream",
          "name": "stdout",
          "text": [
            "Train Accuracy:  0.9668\n",
            "Train Error:  0.03320000000000001\n",
            "---------------------------\n",
            "Test Accuracy:  0.9534\n",
            "Test Error:  0.046599999999999975\n"
          ]
        },
        {
          "output_type": "stream",
          "name": "stderr",
          "text": [
            "/usr/local/lib/python3.10/dist-packages/torch/nn/modules/module.py:1518: UserWarning: Implicit dimension choice for softmax has been deprecated. Change the call to include dim=X as an argument.\n",
            "  return self._call_impl(*args, **kwargs)\n"
          ]
        }
      ],
      "source": [
        "classification_epochs = 25\n",
        "linear_model = LinearClassification()\n",
        "for e in range(classification_epochs):\n",
        "    for t, (x, y) in enumerate(train_dataloader):\n",
        "        x, y = x.to(device), y.to(device)\n",
        "        x_pos = torch.flatten(x, start_dim=1)\n",
        "        linear_model.train(x_pos, y)\n",
        "\n",
        "x_train_acc, y_train_acc = next(iter(train_acc_dataloader))\n",
        "tttt = torch.flatten(x_train_acc.clone(), start_dim=1)\n",
        "train_acc = linear_model.predict(tttt, y_train_acc)\n",
        "print(f'Train Accuracy: ',train_acc)\n",
        "print(f'Train Error: ', 1-train_acc)\n",
        "\n",
        "x_test_acc, y_test_acc = next(iter(test_dataloader))\n",
        "test = torch.flatten(x_test_acc.clone(), start_dim=1)\n",
        "test_acc = linear_model.predict(test, y_test_acc)\n",
        "print('---------------------------')\n",
        "print(f'Test Accuracy: ',test_acc)\n",
        "print(f'Test Error: ', 1-test_acc)"
      ]
    },
    {
      "cell_type": "markdown",
      "source": [
        "##قسمت ه"
      ],
      "metadata": {
        "id": "aZk7m2Koa01l"
      },
      "id": "aZk7m2Koa01l"
    },
    {
      "cell_type": "markdown",
      "source": [
        "![ffffffffffffffffff.png](data:image/png;base64,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)"
      ],
      "metadata": {
        "id": "YHdqLBUEwxAG"
      },
      "id": "YHdqLBUEwxAG"
    },
    {
      "cell_type": "markdown",
      "source": [
        "در این تمرین از ویدیوی زیر الهام گرفته شده است."
      ],
      "metadata": {
        "id": "14WepTlLUJJU"
      },
      "id": "14WepTlLUJJU"
    },
    {
      "cell_type": "markdown",
      "source": [
        "https://www.youtube.com/watch?v=kvdOow3__CI"
      ],
      "metadata": {
        "id": "_rkk_PWSUOTU"
      },
      "id": "_rkk_PWSUOTU"
    }
  ],
  "metadata": {
    "kernelspec": {
      "display_name": "Python 3",
      "name": "python3"
    },
    "language_info": {
      "codemirror_mode": {
        "name": "ipython",
        "version": 3
      },
      "file_extension": ".py",
      "mimetype": "text/x-python",
      "name": "python",
      "nbconvert_exporter": "python",
      "pygments_lexer": "ipython3",
      "version": "3.8.10"
    },
    "colab": {
      "provenance": [],
      "gpuType": "T4"
    },
    "accelerator": "GPU"
  },
  "nbformat": 4,
  "nbformat_minor": 5
}